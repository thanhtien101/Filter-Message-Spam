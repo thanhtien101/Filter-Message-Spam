{
 "cells": [
  {
   "cell_type": "markdown",
   "id": "2a98b9c4",
   "metadata": {},
   "source": [
    "# Building a Spam Filter with Naive Bayes"
   ]
  },
  {
   "cell_type": "markdown",
   "id": "f11c8264",
   "metadata": {},
   "source": [
    "Trong dự án này, tôi sẽ xây dựng bộ lọc thư rác cho tin nhắn SMS với thuật toán Multinomial Naive Bayes. Mục tiêu là làm cho bộ lọc phân lớp chính xác hơn 80%.\n",
    "\n",
    "Để train thuật toán này. Tôi sẽ sử dụng dataset với 5,572 tin nhắn SMS được con người phân loại. Và bạn có thể tải nó [ở đây](https://archive.ics.uci.edu/ml/datasets/sms+spam+collection)"
   ]
  },
  {
   "cell_type": "markdown",
   "id": "b3e062a6",
   "metadata": {},
   "source": [
    "# Explore the dataset"
   ]
  },
  {
   "cell_type": "markdown",
   "id": "fe19ef77",
   "metadata": {},
   "source": [
    "Bắt đầu đọc dataset"
   ]
  },
  {
   "cell_type": "code",
   "execution_count": 1,
   "id": "793f3c64",
   "metadata": {},
   "outputs": [
    {
     "name": "stdout",
     "output_type": "stream",
     "text": [
      "(5572, 2)\n"
     ]
    },
    {
     "data": {
      "text/html": [
       "<div>\n",
       "<style scoped>\n",
       "    .dataframe tbody tr th:only-of-type {\n",
       "        vertical-align: middle;\n",
       "    }\n",
       "\n",
       "    .dataframe tbody tr th {\n",
       "        vertical-align: top;\n",
       "    }\n",
       "\n",
       "    .dataframe thead th {\n",
       "        text-align: right;\n",
       "    }\n",
       "</style>\n",
       "<table border=\"1\" class=\"dataframe\">\n",
       "  <thead>\n",
       "    <tr style=\"text-align: right;\">\n",
       "      <th></th>\n",
       "      <th>Label</th>\n",
       "      <th>SMS</th>\n",
       "    </tr>\n",
       "  </thead>\n",
       "  <tbody>\n",
       "    <tr>\n",
       "      <th>0</th>\n",
       "      <td>ham</td>\n",
       "      <td>Go until jurong point, crazy.. Available only ...</td>\n",
       "    </tr>\n",
       "    <tr>\n",
       "      <th>1</th>\n",
       "      <td>ham</td>\n",
       "      <td>Ok lar... Joking wif u oni...</td>\n",
       "    </tr>\n",
       "    <tr>\n",
       "      <th>2</th>\n",
       "      <td>spam</td>\n",
       "      <td>Free entry in 2 a wkly comp to win FA Cup fina...</td>\n",
       "    </tr>\n",
       "    <tr>\n",
       "      <th>3</th>\n",
       "      <td>ham</td>\n",
       "      <td>U dun say so early hor... U c already then say...</td>\n",
       "    </tr>\n",
       "    <tr>\n",
       "      <th>4</th>\n",
       "      <td>ham</td>\n",
       "      <td>Nah I don't think he goes to usf, he lives aro...</td>\n",
       "    </tr>\n",
       "  </tbody>\n",
       "</table>\n",
       "</div>"
      ],
      "text/plain": [
       "  Label                                                SMS\n",
       "0   ham  Go until jurong point, crazy.. Available only ...\n",
       "1   ham                      Ok lar... Joking wif u oni...\n",
       "2  spam  Free entry in 2 a wkly comp to win FA Cup fina...\n",
       "3   ham  U dun say so early hor... U c already then say...\n",
       "4   ham  Nah I don't think he goes to usf, he lives aro..."
      ]
     },
     "execution_count": 1,
     "metadata": {},
     "output_type": "execute_result"
    }
   ],
   "source": [
    "import pandas as pd\n",
    "\n",
    "sms=pd.read_csv(\"data/SMSSpamCollection\",sep=\"\\t\",header=None,names=[\"Label\",\"SMS\"])\n",
    "print(sms.shape)\n",
    "sms.head()"
   ]
  },
  {
   "cell_type": "markdown",
   "id": "d9970c1f",
   "metadata": {},
   "source": [
    "Bây giờ, chúng ta sẽ thấy 87% là ham và 13% là spam. Dataset này có thể là đại diện bởi vì thực tế hầu hết tin nhắn của mọi người đều là ham.\n",
    "* ham : không phải tin nhắn rác\n",
    "* spam : tin nhắn rác"
   ]
  },
  {
   "cell_type": "code",
   "execution_count": 2,
   "id": "0df3255f",
   "metadata": {},
   "outputs": [
    {
     "data": {
      "text/plain": [
       "ham     86.593683\n",
       "spam    13.406317\n",
       "Name: Label, dtype: float64"
      ]
     },
     "execution_count": 2,
     "metadata": {},
     "output_type": "execute_result"
    }
   ],
   "source": [
    "sms[\"Label\"].value_counts(normalize=True)*100"
   ]
  },
  {
   "cell_type": "markdown",
   "id": "3c3e4b35",
   "metadata": {},
   "source": [
    "# Training and Test set"
   ]
  },
  {
   "cell_type": "markdown",
   "id": "9135f72d",
   "metadata": {},
   "source": [
    "Để biết hiệu quả của thuật toán mà tôi chuẩn bị training thì tôi sẽ cắt dataset thành 2 tập dự liệu . Một tập dữ liệu để training và một tập dữ để test hiệu quả thuật toán. Và tôi chọn 80% cho training, 20% cho test và chọn ngẫu nhiên dữ liệu."
   ]
  },
  {
   "cell_type": "code",
   "execution_count": 3,
   "id": "5e58b4fd",
   "metadata": {},
   "outputs": [
    {
     "name": "stdout",
     "output_type": "stream",
     "text": [
      "(4458, 2)\n",
      "(1114, 2)\n"
     ]
    }
   ],
   "source": [
    "data_random=sms.sample(frac=1,random_state=1)\n",
    "\n",
    "training_size=round(len(data_random)*0.8)\n",
    "\n",
    "training_set=data_random[:training_size].reset_index(drop=True)\n",
    "test_set=data_random[training_size:].reset_index(drop=True)\n",
    "\n",
    "print(training_set.shape)\n",
    "print(test_set.shape)"
   ]
  },
  {
   "cell_type": "markdown",
   "id": "a969e71d",
   "metadata": {},
   "source": [
    "Bây giờ xem tỉ lệ của tin nhắn spam và ham trong training set và test set, liệu nó giống dataset đầy đủ hay không. 87% là Ham 13% là Spam."
   ]
  },
  {
   "cell_type": "code",
   "execution_count": 4,
   "id": "e018eabc",
   "metadata": {},
   "outputs": [
    {
     "data": {
      "text/plain": [
       "ham     86.54105\n",
       "spam    13.45895\n",
       "Name: Label, dtype: float64"
      ]
     },
     "execution_count": 4,
     "metadata": {},
     "output_type": "execute_result"
    }
   ],
   "source": [
    "training_set[\"Label\"].value_counts(normalize=True)*100"
   ]
  },
  {
   "cell_type": "code",
   "execution_count": 5,
   "id": "abb5415f",
   "metadata": {},
   "outputs": [
    {
     "data": {
      "text/plain": [
       "ham     86.804309\n",
       "spam    13.195691\n",
       "Name: Label, dtype: float64"
      ]
     },
     "execution_count": 5,
     "metadata": {},
     "output_type": "execute_result"
    }
   ],
   "source": [
    "test_set[\"Label\"].value_counts(normalize=True)*100"
   ]
  },
  {
   "cell_type": "markdown",
   "id": "a9a2140e",
   "metadata": {},
   "source": [
    "Kết quả như mong đợi. Tiếp theo, tôi sẽ chuyển xuống bước làm sạch dữ liệu."
   ]
  },
  {
   "cell_type": "markdown",
   "id": "a59c769c",
   "metadata": {},
   "source": [
    "# Data Cleaning"
   ]
  },
  {
   "attachments": {
    "image.png": {
     "image/png": "[encoded data removed]"
    }
   },
   "cell_type": "markdown",
   "id": "6fc58daf",
   "metadata": {},
   "source": [
    "Để tính toán xác xuất theo yêu cầu của thuật toán, tôi cần phải thực hiện một số làm sạch để mang dữ liệu thành 1 định dạng có thể dễ dàng trích xuất thông tin mà tôi cần.\n",
    "\n",
    "Tôi muốn mang dữ liệu thành định dạng bên dưới:\n",
    "\n",
    "![image.png](attachment:image.png)"
   ]
  },
  {
   "cell_type": "markdown",
   "id": "69addd40",
   "metadata": {},
   "source": [
    "Đầu tiên là loại bỏ kí tự đặc biệt và chuyển về chữ thường."
   ]
  },
  {
   "cell_type": "code",
   "execution_count": 6,
   "id": "63a00b2b",
   "metadata": {},
   "outputs": [
    {
     "data": {
      "text/html": [
       "<div>\n",
       "<style scoped>\n",
       "    .dataframe tbody tr th:only-of-type {\n",
       "        vertical-align: middle;\n",
       "    }\n",
       "\n",
       "    .dataframe tbody tr th {\n",
       "        vertical-align: top;\n",
       "    }\n",
       "\n",
       "    .dataframe thead th {\n",
       "        text-align: right;\n",
       "    }\n",
       "</style>\n",
       "<table border=\"1\" class=\"dataframe\">\n",
       "  <thead>\n",
       "    <tr style=\"text-align: right;\">\n",
       "      <th></th>\n",
       "      <th>Label</th>\n",
       "      <th>SMS</th>\n",
       "    </tr>\n",
       "  </thead>\n",
       "  <tbody>\n",
       "    <tr>\n",
       "      <th>0</th>\n",
       "      <td>ham</td>\n",
       "      <td>Yep, by the pretty sculpture</td>\n",
       "    </tr>\n",
       "    <tr>\n",
       "      <th>1</th>\n",
       "      <td>ham</td>\n",
       "      <td>Yes, princess. Are you going to make me moan?</td>\n",
       "    </tr>\n",
       "    <tr>\n",
       "      <th>2</th>\n",
       "      <td>ham</td>\n",
       "      <td>Welp apparently he retired</td>\n",
       "    </tr>\n",
       "    <tr>\n",
       "      <th>3</th>\n",
       "      <td>ham</td>\n",
       "      <td>Havent.</td>\n",
       "    </tr>\n",
       "    <tr>\n",
       "      <th>4</th>\n",
       "      <td>ham</td>\n",
       "      <td>I forgot 2 ask ü all smth.. There's a card on ...</td>\n",
       "    </tr>\n",
       "  </tbody>\n",
       "</table>\n",
       "</div>"
      ],
      "text/plain": [
       "  Label                                                SMS\n",
       "0   ham                       Yep, by the pretty sculpture\n",
       "1   ham      Yes, princess. Are you going to make me moan?\n",
       "2   ham                         Welp apparently he retired\n",
       "3   ham                                            Havent.\n",
       "4   ham  I forgot 2 ask ü all smth.. There's a card on ..."
      ]
     },
     "execution_count": 6,
     "metadata": {},
     "output_type": "execute_result"
    }
   ],
   "source": [
    "training_set.head()"
   ]
  },
  {
   "cell_type": "code",
   "execution_count": 7,
   "id": "829e75ca",
   "metadata": {},
   "outputs": [
    {
     "data": {
      "text/html": [
       "<div>\n",
       "<style scoped>\n",
       "    .dataframe tbody tr th:only-of-type {\n",
       "        vertical-align: middle;\n",
       "    }\n",
       "\n",
       "    .dataframe tbody tr th {\n",
       "        vertical-align: top;\n",
       "    }\n",
       "\n",
       "    .dataframe thead th {\n",
       "        text-align: right;\n",
       "    }\n",
       "</style>\n",
       "<table border=\"1\" class=\"dataframe\">\n",
       "  <thead>\n",
       "    <tr style=\"text-align: right;\">\n",
       "      <th></th>\n",
       "      <th>Label</th>\n",
       "      <th>SMS</th>\n",
       "    </tr>\n",
       "  </thead>\n",
       "  <tbody>\n",
       "    <tr>\n",
       "      <th>0</th>\n",
       "      <td>ham</td>\n",
       "      <td>yep  by the pretty sculpture</td>\n",
       "    </tr>\n",
       "    <tr>\n",
       "      <th>1</th>\n",
       "      <td>ham</td>\n",
       "      <td>yes  princess  are you going to make me moan</td>\n",
       "    </tr>\n",
       "    <tr>\n",
       "      <th>2</th>\n",
       "      <td>ham</td>\n",
       "      <td>welp apparently he retired</td>\n",
       "    </tr>\n",
       "    <tr>\n",
       "      <th>3</th>\n",
       "      <td>ham</td>\n",
       "      <td>havent</td>\n",
       "    </tr>\n",
       "    <tr>\n",
       "      <th>4</th>\n",
       "      <td>ham</td>\n",
       "      <td>i forgot 2 ask ü all smth   there s a card on ...</td>\n",
       "    </tr>\n",
       "  </tbody>\n",
       "</table>\n",
       "</div>"
      ],
      "text/plain": [
       "  Label                                                SMS\n",
       "0   ham                       yep  by the pretty sculpture\n",
       "1   ham      yes  princess  are you going to make me moan \n",
       "2   ham                         welp apparently he retired\n",
       "3   ham                                            havent \n",
       "4   ham  i forgot 2 ask ü all smth   there s a card on ..."
      ]
     },
     "execution_count": 7,
     "metadata": {},
     "output_type": "execute_result"
    }
   ],
   "source": [
    "training_set[\"SMS\"]=training_set[\"SMS\"].str.replace(\"\\W\",\" \",regex=True).str.lower()\n",
    "training_set.head()"
   ]
  },
  {
   "cell_type": "markdown",
   "id": "9d8aee2c",
   "metadata": {},
   "source": [
    "# Create Vocabulary "
   ]
  },
  {
   "cell_type": "markdown",
   "id": "7ffc592d",
   "metadata": {},
   "source": [
    "Tiếp theo, tôi sẽ tách từng từ trong nội dung của SMS sao cho mỗi từ được xuất hiện 1 lần và bỏ vào trong danh sách ```vocabulary```. Để lấy được 1 lần của 1 từ xuất hiện, tôi đã chuyển nó từ ```list``` sang ```set```, sau đó chuyển nó về lại ```list``` bởi vì tôi muốn ```vocabulary``` là ```list```."
   ]
  },
  {
   "cell_type": "code",
   "execution_count": 8,
   "id": "bdc425f9",
   "metadata": {},
   "outputs": [
    {
     "data": {
      "text/plain": [
       "7783"
      ]
     },
     "execution_count": 8,
     "metadata": {},
     "output_type": "execute_result"
    }
   ],
   "source": [
    "training_set[\"SMS\"]=training_set[\"SMS\"].str.split()\n",
    "vocabulary=[]\n",
    "for sms in training_set[\"SMS\"]:\n",
    "    for word in sms:\n",
    "        vocabulary.append(word)\n",
    "\n",
    "vocabulary=list(set(vocabulary))\n",
    "\n",
    "len(vocabulary)"
   ]
  },
  {
   "cell_type": "markdown",
   "id": "c2dff9b9",
   "metadata": {},
   "source": [
    "Tôi sẽ sử dụng ```vocabulary``` để chuyển đổi dữ liệu thành định dạng như ở trên đã đề cập:"
   ]
  },
  {
   "cell_type": "code",
   "execution_count": 9,
   "id": "c5c6584c",
   "metadata": {},
   "outputs": [
    {
     "data": {
      "text/html": [
       "<div>\n",
       "<style scoped>\n",
       "    .dataframe tbody tr th:only-of-type {\n",
       "        vertical-align: middle;\n",
       "    }\n",
       "\n",
       "    .dataframe tbody tr th {\n",
       "        vertical-align: top;\n",
       "    }\n",
       "\n",
       "    .dataframe thead th {\n",
       "        text-align: right;\n",
       "    }\n",
       "</style>\n",
       "<table border=\"1\" class=\"dataframe\">\n",
       "  <thead>\n",
       "    <tr style=\"text-align: right;\">\n",
       "      <th></th>\n",
       "      <th>car</th>\n",
       "      <th>150ppermesssubscription</th>\n",
       "      <th>camry</th>\n",
       "      <th>prospects</th>\n",
       "      <th>goto</th>\n",
       "      <th>68866</th>\n",
       "      <th>abusers</th>\n",
       "      <th>talents</th>\n",
       "      <th>tscs087147403231winawk</th>\n",
       "      <th>rcd</th>\n",
       "      <th>...</th>\n",
       "      <th>ansr</th>\n",
       "      <th>andre</th>\n",
       "      <th>her</th>\n",
       "      <th>mustprovide</th>\n",
       "      <th>mayb</th>\n",
       "      <th>straight</th>\n",
       "      <th>spook</th>\n",
       "      <th>prefer</th>\n",
       "      <th>gold</th>\n",
       "      <th>87021</th>\n",
       "    </tr>\n",
       "  </thead>\n",
       "  <tbody>\n",
       "    <tr>\n",
       "      <th>0</th>\n",
       "      <td>0</td>\n",
       "      <td>0</td>\n",
       "      <td>0</td>\n",
       "      <td>0</td>\n",
       "      <td>0</td>\n",
       "      <td>0</td>\n",
       "      <td>0</td>\n",
       "      <td>0</td>\n",
       "      <td>0</td>\n",
       "      <td>0</td>\n",
       "      <td>...</td>\n",
       "      <td>0</td>\n",
       "      <td>0</td>\n",
       "      <td>0</td>\n",
       "      <td>0</td>\n",
       "      <td>0</td>\n",
       "      <td>0</td>\n",
       "      <td>0</td>\n",
       "      <td>0</td>\n",
       "      <td>0</td>\n",
       "      <td>0</td>\n",
       "    </tr>\n",
       "    <tr>\n",
       "      <th>1</th>\n",
       "      <td>0</td>\n",
       "      <td>0</td>\n",
       "      <td>0</td>\n",
       "      <td>0</td>\n",
       "      <td>0</td>\n",
       "      <td>0</td>\n",
       "      <td>0</td>\n",
       "      <td>0</td>\n",
       "      <td>0</td>\n",
       "      <td>0</td>\n",
       "      <td>...</td>\n",
       "      <td>0</td>\n",
       "      <td>0</td>\n",
       "      <td>0</td>\n",
       "      <td>0</td>\n",
       "      <td>0</td>\n",
       "      <td>0</td>\n",
       "      <td>0</td>\n",
       "      <td>0</td>\n",
       "      <td>0</td>\n",
       "      <td>0</td>\n",
       "    </tr>\n",
       "    <tr>\n",
       "      <th>2</th>\n",
       "      <td>0</td>\n",
       "      <td>0</td>\n",
       "      <td>0</td>\n",
       "      <td>0</td>\n",
       "      <td>0</td>\n",
       "      <td>0</td>\n",
       "      <td>0</td>\n",
       "      <td>0</td>\n",
       "      <td>0</td>\n",
       "      <td>0</td>\n",
       "      <td>...</td>\n",
       "      <td>0</td>\n",
       "      <td>0</td>\n",
       "      <td>0</td>\n",
       "      <td>0</td>\n",
       "      <td>0</td>\n",
       "      <td>0</td>\n",
       "      <td>0</td>\n",
       "      <td>0</td>\n",
       "      <td>0</td>\n",
       "      <td>0</td>\n",
       "    </tr>\n",
       "    <tr>\n",
       "      <th>3</th>\n",
       "      <td>0</td>\n",
       "      <td>0</td>\n",
       "      <td>0</td>\n",
       "      <td>0</td>\n",
       "      <td>0</td>\n",
       "      <td>0</td>\n",
       "      <td>0</td>\n",
       "      <td>0</td>\n",
       "      <td>0</td>\n",
       "      <td>0</td>\n",
       "      <td>...</td>\n",
       "      <td>0</td>\n",
       "      <td>0</td>\n",
       "      <td>0</td>\n",
       "      <td>0</td>\n",
       "      <td>0</td>\n",
       "      <td>0</td>\n",
       "      <td>0</td>\n",
       "      <td>0</td>\n",
       "      <td>0</td>\n",
       "      <td>0</td>\n",
       "    </tr>\n",
       "    <tr>\n",
       "      <th>4</th>\n",
       "      <td>0</td>\n",
       "      <td>0</td>\n",
       "      <td>0</td>\n",
       "      <td>0</td>\n",
       "      <td>0</td>\n",
       "      <td>0</td>\n",
       "      <td>0</td>\n",
       "      <td>0</td>\n",
       "      <td>0</td>\n",
       "      <td>0</td>\n",
       "      <td>...</td>\n",
       "      <td>0</td>\n",
       "      <td>0</td>\n",
       "      <td>0</td>\n",
       "      <td>0</td>\n",
       "      <td>0</td>\n",
       "      <td>0</td>\n",
       "      <td>0</td>\n",
       "      <td>0</td>\n",
       "      <td>0</td>\n",
       "      <td>0</td>\n",
       "    </tr>\n",
       "    <tr>\n",
       "      <th>...</th>\n",
       "      <td>...</td>\n",
       "      <td>...</td>\n",
       "      <td>...</td>\n",
       "      <td>...</td>\n",
       "      <td>...</td>\n",
       "      <td>...</td>\n",
       "      <td>...</td>\n",
       "      <td>...</td>\n",
       "      <td>...</td>\n",
       "      <td>...</td>\n",
       "      <td>...</td>\n",
       "      <td>...</td>\n",
       "      <td>...</td>\n",
       "      <td>...</td>\n",
       "      <td>...</td>\n",
       "      <td>...</td>\n",
       "      <td>...</td>\n",
       "      <td>...</td>\n",
       "      <td>...</td>\n",
       "      <td>...</td>\n",
       "      <td>...</td>\n",
       "    </tr>\n",
       "    <tr>\n",
       "      <th>4453</th>\n",
       "      <td>0</td>\n",
       "      <td>0</td>\n",
       "      <td>0</td>\n",
       "      <td>0</td>\n",
       "      <td>0</td>\n",
       "      <td>0</td>\n",
       "      <td>0</td>\n",
       "      <td>0</td>\n",
       "      <td>0</td>\n",
       "      <td>0</td>\n",
       "      <td>...</td>\n",
       "      <td>0</td>\n",
       "      <td>0</td>\n",
       "      <td>0</td>\n",
       "      <td>0</td>\n",
       "      <td>0</td>\n",
       "      <td>0</td>\n",
       "      <td>0</td>\n",
       "      <td>0</td>\n",
       "      <td>0</td>\n",
       "      <td>0</td>\n",
       "    </tr>\n",
       "    <tr>\n",
       "      <th>4454</th>\n",
       "      <td>0</td>\n",
       "      <td>0</td>\n",
       "      <td>0</td>\n",
       "      <td>0</td>\n",
       "      <td>0</td>\n",
       "      <td>0</td>\n",
       "      <td>0</td>\n",
       "      <td>0</td>\n",
       "      <td>0</td>\n",
       "      <td>0</td>\n",
       "      <td>...</td>\n",
       "      <td>0</td>\n",
       "      <td>0</td>\n",
       "      <td>0</td>\n",
       "      <td>0</td>\n",
       "      <td>0</td>\n",
       "      <td>0</td>\n",
       "      <td>0</td>\n",
       "      <td>0</td>\n",
       "      <td>0</td>\n",
       "      <td>0</td>\n",
       "    </tr>\n",
       "    <tr>\n",
       "      <th>4455</th>\n",
       "      <td>0</td>\n",
       "      <td>0</td>\n",
       "      <td>0</td>\n",
       "      <td>0</td>\n",
       "      <td>0</td>\n",
       "      <td>0</td>\n",
       "      <td>0</td>\n",
       "      <td>0</td>\n",
       "      <td>0</td>\n",
       "      <td>0</td>\n",
       "      <td>...</td>\n",
       "      <td>0</td>\n",
       "      <td>0</td>\n",
       "      <td>0</td>\n",
       "      <td>0</td>\n",
       "      <td>0</td>\n",
       "      <td>0</td>\n",
       "      <td>0</td>\n",
       "      <td>0</td>\n",
       "      <td>0</td>\n",
       "      <td>0</td>\n",
       "    </tr>\n",
       "    <tr>\n",
       "      <th>4456</th>\n",
       "      <td>0</td>\n",
       "      <td>0</td>\n",
       "      <td>0</td>\n",
       "      <td>0</td>\n",
       "      <td>0</td>\n",
       "      <td>0</td>\n",
       "      <td>0</td>\n",
       "      <td>0</td>\n",
       "      <td>0</td>\n",
       "      <td>0</td>\n",
       "      <td>...</td>\n",
       "      <td>0</td>\n",
       "      <td>0</td>\n",
       "      <td>0</td>\n",
       "      <td>0</td>\n",
       "      <td>0</td>\n",
       "      <td>0</td>\n",
       "      <td>0</td>\n",
       "      <td>0</td>\n",
       "      <td>0</td>\n",
       "      <td>0</td>\n",
       "    </tr>\n",
       "    <tr>\n",
       "      <th>4457</th>\n",
       "      <td>0</td>\n",
       "      <td>0</td>\n",
       "      <td>0</td>\n",
       "      <td>0</td>\n",
       "      <td>0</td>\n",
       "      <td>0</td>\n",
       "      <td>0</td>\n",
       "      <td>0</td>\n",
       "      <td>0</td>\n",
       "      <td>0</td>\n",
       "      <td>...</td>\n",
       "      <td>0</td>\n",
       "      <td>0</td>\n",
       "      <td>0</td>\n",
       "      <td>0</td>\n",
       "      <td>0</td>\n",
       "      <td>0</td>\n",
       "      <td>0</td>\n",
       "      <td>0</td>\n",
       "      <td>0</td>\n",
       "      <td>0</td>\n",
       "    </tr>\n",
       "  </tbody>\n",
       "</table>\n",
       "<p>4458 rows × 7783 columns</p>\n",
       "</div>"
      ],
      "text/plain": [
       "      car  150ppermesssubscription  camry  prospects  goto  68866  abusers  \\\n",
       "0       0                        0      0          0     0      0        0   \n",
       "1       0                        0      0          0     0      0        0   \n",
       "2       0                        0      0          0     0      0        0   \n",
       "3       0                        0      0          0     0      0        0   \n",
       "4       0                        0      0          0     0      0        0   \n",
       "...   ...                      ...    ...        ...   ...    ...      ...   \n",
       "4453    0                        0      0          0     0      0        0   \n",
       "4454    0                        0      0          0     0      0        0   \n",
       "4455    0                        0      0          0     0      0        0   \n",
       "4456    0                        0      0          0     0      0        0   \n",
       "4457    0                        0      0          0     0      0        0   \n",
       "\n",
       "      talents  tscs087147403231winawk  rcd  ...  ansr  andre  her  \\\n",
       "0           0                       0    0  ...     0      0    0   \n",
       "1           0                       0    0  ...     0      0    0   \n",
       "2           0                       0    0  ...     0      0    0   \n",
       "3           0                       0    0  ...     0      0    0   \n",
       "4           0                       0    0  ...     0      0    0   \n",
       "...       ...                     ...  ...  ...   ...    ...  ...   \n",
       "4453        0                       0    0  ...     0      0    0   \n",
       "4454        0                       0    0  ...     0      0    0   \n",
       "4455        0                       0    0  ...     0      0    0   \n",
       "4456        0                       0    0  ...     0      0    0   \n",
       "4457        0                       0    0  ...     0      0    0   \n",
       "\n",
       "      mustprovide  mayb  straight  spook  prefer  gold  87021  \n",
       "0               0     0         0      0       0     0      0  \n",
       "1               0     0         0      0       0     0      0  \n",
       "2               0     0         0      0       0     0      0  \n",
       "3               0     0         0      0       0     0      0  \n",
       "4               0     0         0      0       0     0      0  \n",
       "...           ...   ...       ...    ...     ...   ...    ...  \n",
       "4453            0     0         0      0       0     0      0  \n",
       "4454            0     0         0      0       0     0      0  \n",
       "4455            0     0         0      0       0     0      0  \n",
       "4456            0     0         0      0       0     0      0  \n",
       "4457            0     0         0      0       0     0      0  \n",
       "\n",
       "[4458 rows x 7783 columns]"
      ]
     },
     "execution_count": 9,
     "metadata": {},
     "output_type": "execute_result"
    }
   ],
   "source": [
    "word_count_per_sms={unique_word:[0]*len(training_set) for unique_word in vocabulary}\n",
    "\n",
    "for index,sms in enumerate(training_set[\"SMS\"]):\n",
    "    for word in sms:\n",
    "        word_count_per_sms[word][index] +=1\n",
    "word_counts=pd.DataFrame(word_count_per_sms)\n",
    "word_counts"
   ]
  },
  {
   "cell_type": "code",
   "execution_count": 10,
   "id": "c5ef7b19",
   "metadata": {},
   "outputs": [
    {
     "data": {
      "text/html": [
       "<div>\n",
       "<style scoped>\n",
       "    .dataframe tbody tr th:only-of-type {\n",
       "        vertical-align: middle;\n",
       "    }\n",
       "\n",
       "    .dataframe tbody tr th {\n",
       "        vertical-align: top;\n",
       "    }\n",
       "\n",
       "    .dataframe thead th {\n",
       "        text-align: right;\n",
       "    }\n",
       "</style>\n",
       "<table border=\"1\" class=\"dataframe\">\n",
       "  <thead>\n",
       "    <tr style=\"text-align: right;\">\n",
       "      <th></th>\n",
       "      <th>Label</th>\n",
       "      <th>SMS</th>\n",
       "      <th>car</th>\n",
       "      <th>150ppermesssubscription</th>\n",
       "      <th>camry</th>\n",
       "      <th>prospects</th>\n",
       "      <th>goto</th>\n",
       "      <th>68866</th>\n",
       "      <th>abusers</th>\n",
       "      <th>talents</th>\n",
       "      <th>...</th>\n",
       "      <th>ansr</th>\n",
       "      <th>andre</th>\n",
       "      <th>her</th>\n",
       "      <th>mustprovide</th>\n",
       "      <th>mayb</th>\n",
       "      <th>straight</th>\n",
       "      <th>spook</th>\n",
       "      <th>prefer</th>\n",
       "      <th>gold</th>\n",
       "      <th>87021</th>\n",
       "    </tr>\n",
       "  </thead>\n",
       "  <tbody>\n",
       "    <tr>\n",
       "      <th>0</th>\n",
       "      <td>ham</td>\n",
       "      <td>[yep, by, the, pretty, sculpture]</td>\n",
       "      <td>0</td>\n",
       "      <td>0</td>\n",
       "      <td>0</td>\n",
       "      <td>0</td>\n",
       "      <td>0</td>\n",
       "      <td>0</td>\n",
       "      <td>0</td>\n",
       "      <td>0</td>\n",
       "      <td>...</td>\n",
       "      <td>0</td>\n",
       "      <td>0</td>\n",
       "      <td>0</td>\n",
       "      <td>0</td>\n",
       "      <td>0</td>\n",
       "      <td>0</td>\n",
       "      <td>0</td>\n",
       "      <td>0</td>\n",
       "      <td>0</td>\n",
       "      <td>0</td>\n",
       "    </tr>\n",
       "    <tr>\n",
       "      <th>1</th>\n",
       "      <td>ham</td>\n",
       "      <td>[yes, princess, are, you, going, to, make, me,...</td>\n",
       "      <td>0</td>\n",
       "      <td>0</td>\n",
       "      <td>0</td>\n",
       "      <td>0</td>\n",
       "      <td>0</td>\n",
       "      <td>0</td>\n",
       "      <td>0</td>\n",
       "      <td>0</td>\n",
       "      <td>...</td>\n",
       "      <td>0</td>\n",
       "      <td>0</td>\n",
       "      <td>0</td>\n",
       "      <td>0</td>\n",
       "      <td>0</td>\n",
       "      <td>0</td>\n",
       "      <td>0</td>\n",
       "      <td>0</td>\n",
       "      <td>0</td>\n",
       "      <td>0</td>\n",
       "    </tr>\n",
       "    <tr>\n",
       "      <th>2</th>\n",
       "      <td>ham</td>\n",
       "      <td>[welp, apparently, he, retired]</td>\n",
       "      <td>0</td>\n",
       "      <td>0</td>\n",
       "      <td>0</td>\n",
       "      <td>0</td>\n",
       "      <td>0</td>\n",
       "      <td>0</td>\n",
       "      <td>0</td>\n",
       "      <td>0</td>\n",
       "      <td>...</td>\n",
       "      <td>0</td>\n",
       "      <td>0</td>\n",
       "      <td>0</td>\n",
       "      <td>0</td>\n",
       "      <td>0</td>\n",
       "      <td>0</td>\n",
       "      <td>0</td>\n",
       "      <td>0</td>\n",
       "      <td>0</td>\n",
       "      <td>0</td>\n",
       "    </tr>\n",
       "    <tr>\n",
       "      <th>3</th>\n",
       "      <td>ham</td>\n",
       "      <td>[havent]</td>\n",
       "      <td>0</td>\n",
       "      <td>0</td>\n",
       "      <td>0</td>\n",
       "      <td>0</td>\n",
       "      <td>0</td>\n",
       "      <td>0</td>\n",
       "      <td>0</td>\n",
       "      <td>0</td>\n",
       "      <td>...</td>\n",
       "      <td>0</td>\n",
       "      <td>0</td>\n",
       "      <td>0</td>\n",
       "      <td>0</td>\n",
       "      <td>0</td>\n",
       "      <td>0</td>\n",
       "      <td>0</td>\n",
       "      <td>0</td>\n",
       "      <td>0</td>\n",
       "      <td>0</td>\n",
       "    </tr>\n",
       "    <tr>\n",
       "      <th>4</th>\n",
       "      <td>ham</td>\n",
       "      <td>[i, forgot, 2, ask, ü, all, smth, there, s, a,...</td>\n",
       "      <td>0</td>\n",
       "      <td>0</td>\n",
       "      <td>0</td>\n",
       "      <td>0</td>\n",
       "      <td>0</td>\n",
       "      <td>0</td>\n",
       "      <td>0</td>\n",
       "      <td>0</td>\n",
       "      <td>...</td>\n",
       "      <td>0</td>\n",
       "      <td>0</td>\n",
       "      <td>0</td>\n",
       "      <td>0</td>\n",
       "      <td>0</td>\n",
       "      <td>0</td>\n",
       "      <td>0</td>\n",
       "      <td>0</td>\n",
       "      <td>0</td>\n",
       "      <td>0</td>\n",
       "    </tr>\n",
       "  </tbody>\n",
       "</table>\n",
       "<p>5 rows × 7785 columns</p>\n",
       "</div>"
      ],
      "text/plain": [
       "  Label                                                SMS  car  \\\n",
       "0   ham                  [yep, by, the, pretty, sculpture]    0   \n",
       "1   ham  [yes, princess, are, you, going, to, make, me,...    0   \n",
       "2   ham                    [welp, apparently, he, retired]    0   \n",
       "3   ham                                           [havent]    0   \n",
       "4   ham  [i, forgot, 2, ask, ü, all, smth, there, s, a,...    0   \n",
       "\n",
       "   150ppermesssubscription  camry  prospects  goto  68866  abusers  talents  \\\n",
       "0                        0      0          0     0      0        0        0   \n",
       "1                        0      0          0     0      0        0        0   \n",
       "2                        0      0          0     0      0        0        0   \n",
       "3                        0      0          0     0      0        0        0   \n",
       "4                        0      0          0     0      0        0        0   \n",
       "\n",
       "   ...  ansr  andre  her  mustprovide  mayb  straight  spook  prefer  gold  \\\n",
       "0  ...     0      0    0            0     0         0      0       0     0   \n",
       "1  ...     0      0    0            0     0         0      0       0     0   \n",
       "2  ...     0      0    0            0     0         0      0       0     0   \n",
       "3  ...     0      0    0            0     0         0      0       0     0   \n",
       "4  ...     0      0    0            0     0         0      0       0     0   \n",
       "\n",
       "   87021  \n",
       "0      0  \n",
       "1      0  \n",
       "2      0  \n",
       "3      0  \n",
       "4      0  \n",
       "\n",
       "[5 rows x 7785 columns]"
      ]
     },
     "execution_count": 10,
     "metadata": {},
     "output_type": "execute_result"
    }
   ],
   "source": [
    "training_set_clean=pd.concat([training_set,word_counts],axis=1)\n",
    "training_set_clean.head()"
   ]
  },
  {
   "cell_type": "markdown",
   "id": "530a50f0",
   "metadata": {},
   "source": [
    "# Caculating Constants First"
   ]
  },
  {
   "cell_type": "markdown",
   "id": "397d0667",
   "metadata": {},
   "source": [
    "Tôi đã làm sạch dữ liệu trong ```training``` set và bắt đầu tạo bộ lọc tin nhắn spam. Thuật toán Naive Bayes sẽ tạo ra 2 xác xuất để có thể phân lớp nó thuộc loại ```spam``` hoặc là ```ham```."
   ]
  },
  {
   "cell_type": "markdown",
   "id": "fea0cf3f",
   "metadata": {},
   "source": [
    "\\begin{equation}\n",
    "P(Spam | w_1,w_2, ..., w_n) \\propto P(Spam) \\cdot \\prod_{i=1}^{n}P(w_i|Spam)\n",
    "\\end{equation}\n",
    "\\begin{equation}\n",
    "P(Ham | w_1,w_2, ..., w_n) \\propto P(Ham) \\cdot \\prod_{i=1}^{n}P(w_i|Ham)\n",
    "\\end{equation}"
   ]
  },
  {
   "cell_type": "markdown",
   "id": "0f79d484",
   "metadata": {},
   "source": [
    "Để tính toán P(wi|Ham) và P(wi|Spam) ở trên, tôi cần sử dụng phương trình sau:\n",
    "\n",
    "\\begin{equation}\n",
    "P(w_i|Spam) = \\frac{N_{w_i|Spam} + \\alpha}{N_{Spam} + \\alpha \\cdot N_{Vocabulary}}\n",
    "\\end{equation}\n",
    "\\begin{equation}\n",
    "P(w_i|Ham) = \\frac{N_{w_i|Ham} + \\alpha}{N_{Ham} + \\alpha \\cdot N_{Vocabulary}}\n",
    "\\end{equation}"
   ]
  },
  {
   "cell_type": "markdown",
   "id": "07927ea3",
   "metadata": {},
   "source": [
    "Các phương trình ở trên có 4 tham số cố định và được sử dụng cho tất cả các tin nhắn. Để tránh việc giá trị được tính toán lại nhiều lần khi tin nhắn đến. Bên dưới, tôi sẽ sử dụng training set để tính toán:\n",
    "\\begin{equation} * P(Spam), P(Ham) \\end{equation}\n",
    "\\begin{equation} * N_{Spam}, N_{Ham}, N_{Vocaburaly} \\end{equation}\n",
    "\\begin{equation} * \\alpha=1 \\end{equation}"
   ]
  },
  {
   "cell_type": "code",
   "execution_count": 11,
   "id": "86fc5e0b",
   "metadata": {},
   "outputs": [],
   "source": [
    "spam_message=training_set_clean[training_set_clean[\"Label\"]==\"spam\"]\n",
    "ham_message=training_set_clean[training_set_clean[\"Label\"]==\"ham\"]\n",
    "\n",
    "p_spam=len(spam_message)/len(training_set_clean)\n",
    "p_ham=len(ham_message)/len(training_set_clean)\n",
    "\n",
    "n_word_per_spam_message=spam_message[\"SMS\"].apply(len)\n",
    "n_spam=n_word_per_spam_message.sum()\n",
    "\n",
    "n_word_per_ham_message=ham_message[\"SMS\"].apply(len)\n",
    "n_ham=n_word_per_ham_message.sum()\n",
    "\n",
    "n_vocabulary=len(vocabulary)\n",
    "alpha=1"
   ]
  },
  {
   "cell_type": "markdown",
   "id": "84e386fb",
   "metadata": {},
   "source": [
    "# Caculating Parameters"
   ]
  },
  {
   "cell_type": "markdown",
   "id": "d342ba8e",
   "metadata": {},
   "source": [
    "Tôi đã có các hằng số bên trên, tiếp theo tôi sẽ tính toán tham số ```P(w_i|Spam)``` và ```P(w_i|Ham)```. Mỗi tham số sẽ là 1 xác xuất có điều kiện của mỗi từ trong ```vocabulary```.\n",
    "\n",
    "\\begin{equation}\n",
    "P(w_i|Spam) = \\frac{N_{w_i|Spam} + \\alpha}{N_{Spam} + \\alpha \\cdot N_{Vocabulary}}\n",
    "\\end{equation}\n",
    "\\begin{equation}\n",
    "P(w_i|Ham) = \\frac{N_{w_i|Ham} + \\alpha}{N_{Ham} + \\alpha \\cdot N_{Vocabulary}}\n",
    "\\end{equation}"
   ]
  },
  {
   "cell_type": "code",
   "execution_count": 13,
   "id": "8c26ff93",
   "metadata": {},
   "outputs": [],
   "source": [
    "spam_parameters={unique_word:0 for unique_word in vocabulary}\n",
    "ham_parameters={unique_word:0 for unique_word in vocabulary}\n",
    "\n",
    "for word in vocabulary:\n",
    "    n_word_given_spam=spam_message[word].sum()\n",
    "    spam_parameters[word] = (n_word_given_spam+alpha)/(n_spam+alpha*n_vocabulary)\n",
    "    \n",
    "    n_word_given_ham=ham_message[word].sum()\n",
    "    ham_parameters[word] = (n_word_given_ham+alpha)/(n_ham+alpha*n_vocabulary)"
   ]
  },
  {
   "cell_type": "markdown",
   "id": "a3afde80",
   "metadata": {},
   "source": [
    "Tiếp theo, tôi sẽ tính toán tất cả các tham số ở trên để tạo ra bộ lọc tin nhắn spam. Tôi sẽ sạo một function gồm các bước:\n",
    "* Nhận 1 đầu vào là một tin nhắn mới\n",
    "* Tính toán P(Spam|w1,w2,w3,...) và P(Ham|w1,w2,w3,...)\n",
    "* So sánh 2 giá trị P(Spam|w1,w2,w3,...) và P(Ham|w1,w2,w3,...):\n",
    "    * if P(Spam|w1,w2,w3,...) > P(Ham|w1,w2,w3,...) thì output sẽ là \"spam\"\n",
    "    * if P(Spam|w1,w2,w3,...) < P(Ham|w1,w2,w3,...) thì output sẽ là \"ham\"\n",
    "    * if P(Spam|w1,w2,w3,...) = P(Ham|w1,w2,w3,...) thì output sẽ là \"needs human classification\""
   ]
  },
  {
   "cell_type": "code",
   "execution_count": 14,
   "id": "896a7e0a",
   "metadata": {},
   "outputs": [],
   "source": [
    "def classify_message(message):\n",
    "    message=message.replace(\"\\W\",\" \").lower()\n",
    "    message=message.split()\n",
    "    p_spam_given_message=p_spam\n",
    "    p_ham_given_message=p_ham\n",
    "    for word in message:\n",
    "        if word in spam_parameters:\n",
    "            p_spam_given_message *= spam_parameters[word]\n",
    "            p_ham_given_message *= ham_parameters[word]\n",
    "    if p_spam_given_message > p_ham_given_message:\n",
    "        return \"spam\"\n",
    "    elif p_spam_given_message < p_ham_given_message:\n",
    "        return \"ham\"\n",
    "    else:\n",
    "        return \"needs human classification\""
   ]
  },
  {
   "cell_type": "markdown",
   "id": "f2e63413",
   "metadata": {},
   "source": [
    "Bây giờ , tôi sẽ dùng function này để dự đoán ra nhãn, tôi có thể sử dụng test set tạo một cột mới ```predict```"
   ]
  },
  {
   "cell_type": "code",
   "execution_count": 15,
   "id": "dd2ddadd",
   "metadata": {},
   "outputs": [
    {
     "data": {
      "text/html": [
       "<div>\n",
       "<style scoped>\n",
       "    .dataframe tbody tr th:only-of-type {\n",
       "        vertical-align: middle;\n",
       "    }\n",
       "\n",
       "    .dataframe tbody tr th {\n",
       "        vertical-align: top;\n",
       "    }\n",
       "\n",
       "    .dataframe thead th {\n",
       "        text-align: right;\n",
       "    }\n",
       "</style>\n",
       "<table border=\"1\" class=\"dataframe\">\n",
       "  <thead>\n",
       "    <tr style=\"text-align: right;\">\n",
       "      <th></th>\n",
       "      <th>Label</th>\n",
       "      <th>SMS</th>\n",
       "      <th>predict</th>\n",
       "    </tr>\n",
       "  </thead>\n",
       "  <tbody>\n",
       "    <tr>\n",
       "      <th>0</th>\n",
       "      <td>ham</td>\n",
       "      <td>Later i guess. I needa do mcat study too.</td>\n",
       "      <td>ham</td>\n",
       "    </tr>\n",
       "    <tr>\n",
       "      <th>1</th>\n",
       "      <td>ham</td>\n",
       "      <td>But i haf enuff space got like 4 mb...</td>\n",
       "      <td>ham</td>\n",
       "    </tr>\n",
       "    <tr>\n",
       "      <th>2</th>\n",
       "      <td>spam</td>\n",
       "      <td>Had your mobile 10 mths? Update to latest Oran...</td>\n",
       "      <td>spam</td>\n",
       "    </tr>\n",
       "    <tr>\n",
       "      <th>3</th>\n",
       "      <td>ham</td>\n",
       "      <td>All sounds good. Fingers . Makes it difficult ...</td>\n",
       "      <td>ham</td>\n",
       "    </tr>\n",
       "    <tr>\n",
       "      <th>4</th>\n",
       "      <td>ham</td>\n",
       "      <td>All done, all handed in. Don't know if mega sh...</td>\n",
       "      <td>ham</td>\n",
       "    </tr>\n",
       "  </tbody>\n",
       "</table>\n",
       "</div>"
      ],
      "text/plain": [
       "  Label                                                SMS predict\n",
       "0   ham          Later i guess. I needa do mcat study too.     ham\n",
       "1   ham             But i haf enuff space got like 4 mb...     ham\n",
       "2  spam  Had your mobile 10 mths? Update to latest Oran...    spam\n",
       "3   ham  All sounds good. Fingers . Makes it difficult ...     ham\n",
       "4   ham  All done, all handed in. Don't know if mega sh...     ham"
      ]
     },
     "execution_count": 15,
     "metadata": {},
     "output_type": "execute_result"
    }
   ],
   "source": [
    "test_set[\"predict\"]=test_set[\"SMS\"].apply(classify_message)\n",
    "test_set.head()"
   ]
  },
  {
   "cell_type": "markdown",
   "id": "c3f95ee8",
   "metadata": {},
   "source": [
    "Cuối cùng tôi sẽ đo độ chính xác của bộ lọc để tìm hiểu xem bộ lọc hoạt động tốt như thế nào."
   ]
  },
  {
   "cell_type": "code",
   "execution_count": 18,
   "id": "a42b2f4d",
   "metadata": {},
   "outputs": [
    {
     "name": "stdout",
     "output_type": "stream",
     "text": [
      "Correct:  1095\n",
      "Incorrect:  19\n",
      "Accuracy:  0.9829443447037702\n"
     ]
    }
   ],
   "source": [
    "correct=0\n",
    "total=len(test_set)\n",
    "\n",
    "for row in test_set.iterrows():\n",
    "    row=row[1]\n",
    "    if row[\"Label\"] == row[\"predict\"]:\n",
    "        correct += 1\n",
    "\n",
    "print(\"Correct: \",correct)\n",
    "print(\"Incorrect: \",total-correct)\n",
    "print(\"Accuracy: \",correct/total)"
   ]
  },
  {
   "cell_type": "markdown",
   "id": "fcb4c327",
   "metadata": {},
   "source": [
    "Độ chính xác hơn 98%, bộ lọc hoạt động tốt hơn mong đợi ban đầu của tôi ( mong đợi là 80%)."
   ]
  },
  {
   "cell_type": "markdown",
   "id": "4604f85b",
   "metadata": {},
   "source": [
    "# Conclusion"
   ]
  },
  {
   "cell_type": "markdown",
   "id": "3e0b5319",
   "metadata": {},
   "source": [
    "Trong dự án này, tôi đã quản lý và xây dựng được một bộ lọc tin nhắn rác bằng thuật toán Multinomial Navie Bayes. Bộ lọc có độ chính xác 98.29% trên test set, đây là một kết quả tốt. Mục tiêu ban đầu là độ chính xác 80% và tôi đã làm tốt hơn thế."
   ]
  }
 ],
 "metadata": {
  "kernelspec": {
   "display_name": "Python 3",
   "language": "python",
   "name": "python3"
  },
  "language_info": {
   "codemirror_mode": {
    "name": "ipython",
    "version": 3
   },
   "file_extension": ".py",
   "mimetype": "text/x-python",
   "name": "python",
   "nbconvert_exporter": "python",
   "pygments_lexer": "ipython3",
   "version": "3.8.8"
  }
 },
 "nbformat": 4,
 "nbformat_minor": 5
}
